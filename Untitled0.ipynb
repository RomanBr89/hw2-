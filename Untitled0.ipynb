{
  "nbformat": 4,
  "nbformat_minor": 0,
  "metadata": {
    "colab": {
      "provenance": [],
      "authorship_tag": "ABX9TyMMDUPEtOf+qsJDbdamiRy3",
      "include_colab_link": true
    },
    "kernelspec": {
      "name": "python3",
      "display_name": "Python 3"
    },
    "language_info": {
      "name": "python"
    }
  },
  "cells": [
    {
      "cell_type": "markdown",
      "metadata": {
        "id": "view-in-github",
        "colab_type": "text"
      },
      "source": [
        "<a href=\"https://colab.research.google.com/github/RomanBr89/hw2-/blob/main/Untitled0.ipynb\" target=\"_parent\"><img src=\"https://colab.research.google.com/assets/colab-badge.svg\" alt=\"Open In Colab\"/></a>"
      ]
    },
    {
      "cell_type": "code",
      "source": [
        "import pandas as pd\n",
        "import matplotlib.pyplot as plt\n",
        "\n",
        "\n",
        "file_path = 'smmhdataset.csv'\n",
        "def load_csv(file_path):\n",
        "\n",
        "    try:\n",
        "        df = pd.read_csv(file_path)\n",
        "        print(f'Файл успешно загружен')\n",
        "        return df\n",
        "    except Exception as e:\n",
        "        print(f'Ошибка при загрузке CSV: {e}')\n",
        "        return None\n",
        "\n",
        "df = load_csv(file_path)"
      ],
      "metadata": {
        "id": "4dBMbBqui4qY",
        "colab": {
          "base_uri": "https://localhost:8080/"
        },
        "outputId": "1e1757f7-de7e-4bdc-fdf9-089e18b67f85"
      },
      "execution_count": 28,
      "outputs": [
        {
          "output_type": "stream",
          "name": "stdout",
          "text": [
            "Файл успешно загружен\n"
          ]
        }
      ]
    },
    {
      "cell_type": "code",
      "source": [
        "# Загрузка данных\n",
        "df = pd.read_csv('smmhdataset.csv')\n",
        "\n",
        "numerical_cols = df.select_dtypes(include=['int64', 'float64']).columns\n",
        "\n",
        "print(df['1. What is your age?'].describe())\n",
        "\n",
        "# Boxplot только для колонки с возрастом для определения вбросов\n",
        "age_col = '1. What is your age?'\n",
        "plt.figure(figsize=(6, 6))\n",
        "plt.boxplot(df[age_col])\n",
        "plt.title('Boxplot для возраста')\n",
        "plt.ylabel('Возраст')\n",
        "plt.show()"
      ],
      "metadata": {
        "colab": {
          "base_uri": "https://localhost:8080/",
          "height": 701
        },
        "id": "jHGUOai-rAJg",
        "outputId": "92b6d36f-8023-43d7-b6d1-446457219ff3"
      },
      "execution_count": 36,
      "outputs": [
        {
          "output_type": "stream",
          "name": "stdout",
          "text": [
            "count    481.00000\n",
            "mean      26.13659\n",
            "std        9.91511\n",
            "min       13.00000\n",
            "25%       21.00000\n",
            "50%       22.00000\n",
            "75%       26.00000\n",
            "max       91.00000\n",
            "Name: 1. What is your age?, dtype: float64\n"
          ]
        },
        {
          "output_type": "display_data",
          "data": {
            "text/plain": [
              "<Figure size 600x600 with 1 Axes>"
            ],
            "image/png": "[encoded data removed]"
          },
          "metadata": {}
        }
      ]
    },
    {
      "cell_type": "code",
      "source": [
        "# Проверка, есть ли вообще пропуски\n",
        "print(df.isnull().values.any())\n",
        "\n",
        "# Количество пропусков в каждой колонке\n",
        "print(df.isnull().sum())\n",
        "\n"
      ],
      "metadata": {
        "colab": {
          "base_uri": "https://localhost:8080/"
        },
        "id": "0BOQ2Fpt2p1d",
        "outputId": "ce2517a9-c122-4fe6-a0a5-e0c295ad2911"
      },
      "execution_count": 23,
      "outputs": [
        {
          "output_type": "stream",
          "name": "stdout",
          "text": [
            "True\n",
            "Timestamp                                                                                                                0\n",
            "1. What is your age?                                                                                                     0\n",
            "2. Gender                                                                                                                0\n",
            "3. Relationship Status                                                                                                   0\n",
            "4. Occupation Status                                                                                                     0\n",
            "5. What type of organizations are you affiliated with?                                                                  30\n",
            "6. Do you use social media?                                                                                              0\n",
            "7. What social media platforms do you commonly use?                                                                      0\n",
            "8. What is the average time you spend on social media every day?                                                         0\n",
            "9. How often do you find yourself using Social media without a specific purpose?                                         0\n",
            "10. How often do you get distracted by Social media when you are busy doing something?                                   0\n",
            "11. Do you feel restless if you haven't used Social media in a while?                                                    0\n",
            "12. On a scale of 1 to 5, how easily distracted are you?                                                                 0\n",
            "13. On a scale of 1 to 5, how much are you bothered by worries?                                                          0\n",
            "14. Do you find it difficult to concentrate on things?                                                                   0\n",
            "15. On a scale of 1-5, how often do you compare yourself to other successful people through the use of social media?     0\n",
            "16. Following the previous question, how do you feel about these comparisons, generally speaking?                        0\n",
            "17. How often do you look to seek validation from features of social media?                                              0\n",
            "18. How often do you feel depressed or down?                                                                             0\n",
            "19. On a scale of 1 to 5, how frequently does your interest in daily activities fluctuate?                               0\n",
            "20. On a scale of 1 to 5, how often do you face issues regarding sleep?                                                  0\n",
            "dtype: int64\n"
          ]
        }
      ]
    },
    {
      "cell_type": "code",
      "source": [
        "# Проверка на уникальность половой принадлежности. Есть забавный момент=)\n",
        "print(df['2. Gender'].value_counts())"
      ],
      "metadata": {
        "colab": {
          "base_uri": "https://localhost:8080/"
        },
        "id": "5a4YtkX849ci",
        "outputId": "ae8add8a-39ff-4e03-f310-7d798566b515"
      },
      "execution_count": 32,
      "outputs": [
        {
          "output_type": "stream",
          "name": "stdout",
          "text": [
            "2. Gender\n",
            "Female                 263\n",
            "Male                   211\n",
            "Nonbinary                1\n",
            "Non-binary               1\n",
            "NB                       1\n",
            "unsure                   1\n",
            "Trans                    1\n",
            "Non binary               1\n",
            "There are others???      1\n",
            "Name: count, dtype: int64\n"
          ]
        }
      ]
    },
    {
      "cell_type": "code",
      "source": [
        "# Проверка на уникальность Relationship\n",
        "print(df['3. Relationship Status'].value_counts())\n",
        "\n",
        "df['Relationship_Group'] = df['3. Relationship Status']\n",
        "\n",
        "# Объединяем категории\n",
        "df['Relationship_Group'] = df['Relationship_Group'].replace({\n",
        "    'Married': 'In a relationship',\n",
        "    'In a relationship': 'In a relationship',\n",
        "    'Single': 'Single/Divorced',\n",
        "    'Divorced': 'Single/Divorced'\n",
        "})\n",
        "\n",
        "print(df['Relationship_Group'].value_counts())"
      ],
      "metadata": {
        "colab": {
          "base_uri": "https://localhost:8080/"
        },
        "id": "lHNCEsn_69kD",
        "outputId": "c61f223e-79e8-45b8-b268-32c2b4381ff3"
      },
      "execution_count": 67,
      "outputs": [
        {
          "output_type": "stream",
          "name": "stdout",
          "text": [
            "3. Relationship Status\n",
            "Single               285\n",
            "Married              101\n",
            "In a relationship     88\n",
            "Divorced               7\n",
            "Name: count, dtype: int64\n",
            "Relationship_Group\n",
            "Single/Divorced      292\n",
            "In a relationship    189\n",
            "Name: count, dtype: int64\n"
          ]
        }
      ]
    },
    {
      "cell_type": "code",
      "source": [
        "# Проверка на уникальность Occupation Status\n",
        "print(df['4. Occupation Status'].value_counts())"
      ],
      "metadata": {
        "colab": {
          "base_uri": "https://localhost:8080/"
        },
        "id": "AceW4My0M1p0",
        "outputId": "bad0291a-8e41-4f38-fb4c-0dd84b969392"
      },
      "execution_count": 66,
      "outputs": [
        {
          "output_type": "stream",
          "name": "stdout",
          "text": [
            "4. Occupation Status\n",
            "University Student    292\n",
            "Salaried Worker       132\n",
            "School Student         49\n",
            "Retired                 8\n",
            "Name: count, dtype: int64\n"
          ]
        }
      ]
    },
    {
      "cell_type": "code",
      "source": [
        "# Проверка на уникальность Do you use social media\n",
        "print(df['6. Do you use social media?'].value_counts())"
      ],
      "metadata": {
        "colab": {
          "base_uri": "https://localhost:8080/"
        },
        "id": "f6nuIvGANBrj",
        "outputId": "aa5c0119-1ee1-468a-f29b-de913a45f3e6"
      },
      "execution_count": 43,
      "outputs": [
        {
          "output_type": "stream",
          "name": "stdout",
          "text": [
            "6. Do you use social media?\n",
            "Yes    478\n",
            "No       3\n",
            "Name: count, dtype: int64\n"
          ]
        }
      ]
    },
    {
      "cell_type": "code",
      "source": [
        "# Проверка на уникальность Do you use social media\n",
        "print(df['7. What social media platforms do you commonly use?'].value_counts())\n",
        "\n",
        "social_col = '7. What social media platforms do you commonly use?'\n",
        "\n",
        "# Преобразование ответов по соц сетям на то, какое количество соц сетей используют группы людей\n",
        "df['Social_Count'] = df[social_col].apply(lambda x: len(x.split(',')))\n",
        "\n",
        "# Считаем, сколько человек используют 1, 2, 3 и т.д. соцсетей\n",
        "count_per_number = df['Social_Count'].value_counts().sort_index()\n",
        "\n",
        "# Проверяем вывод\n",
        "for num_socials, num_people in count_per_number.items():\n",
        "    print(num_socials, num_people)"
      ],
      "metadata": {
        "colab": {
          "base_uri": "https://localhost:8080/"
        },
        "id": "NR-5XZYINhnG",
        "outputId": "ea1b2438-2848-4117-90e2-7e8df28b7d9c"
      },
      "execution_count": 60,
      "outputs": [
        {
          "output_type": "stream",
          "name": "stdout",
          "text": [
            "7. What social media platforms do you commonly use?\n",
            "Facebook, Instagram, YouTube                                        35\n",
            "Facebook, YouTube                                                   30\n",
            "Facebook, Instagram, YouTube, Snapchat                              28\n",
            "Facebook, Instagram, YouTube, Snapchat, Discord                     19\n",
            "Facebook, Instagram, YouTube, Discord                               18\n",
            "                                                                    ..\n",
            "Facebook, Instagram, YouTube, Reddit, TikTok                         1\n",
            "Facebook, Twitter, YouTube, Pinterest                                1\n",
            "Instagram, Discord                                                   1\n",
            "Twitter, Instagram, YouTube, Discord, Pinterest                      1\n",
            "Instagram, YouTube, Snapchat, Discord, Reddit, Pinterest, TikTok     1\n",
            "Name: count, Length: 125, dtype: int64\n",
            "1 38\n",
            "2 59\n",
            "3 79\n",
            "4 103\n",
            "5 77\n",
            "6 52\n",
            "7 44\n",
            "8 18\n",
            "9 11\n"
          ]
        }
      ]
    },
    {
      "cell_type": "code",
      "source": [
        "# Проверка вбросов о количестве проведенного времени в соц сетях в день\n",
        "\n",
        "print(df['8. What is the average time you spend on social media every day?'].describe())\n",
        "\n",
        "age_col = '8. What is the average time you spend on social media every day?'\n",
        "\n",
        "# Копируем колонку\n",
        "time_data = df[age_col].astype(str)\n",
        "\n",
        "# Преобразуем: оставляем только цифры из строк\n",
        "time_data = time_data.str.extract(r'(\\d+)')  # берём только числа\n",
        "time_data = pd.to_numeric(time_data[0], errors='coerce')  # в число, ошибки -> NaN\n",
        "\n",
        "# Убираем пропуски\n",
        "time_data = time_data.dropna()\n",
        "\n",
        "\n"
      ],
      "metadata": {
        "colab": {
          "base_uri": "https://localhost:8080/"
        },
        "id": "Sf-pMnHcXPMG",
        "outputId": "1d4df191-535e-4ff4-c21f-e703a52d84e0"
      },
      "execution_count": 69,
      "outputs": [
        {
          "output_type": "stream",
          "name": "stdout",
          "text": [
            "count                   481\n",
            "unique                    6\n",
            "top       More than 5 hours\n",
            "freq                    116\n",
            "Name: 8. What is the average time you spend on social media every day?, dtype: object\n"
          ]
        }
      ]
    },
    {
      "cell_type": "code",
      "source": [
        "target_col = '8. What is the average time you spend on social media every day?'\n",
        "\n",
        "# Преобразуем в число\n",
        "df[target_col] = df[target_col].astype(str).str.extract(r'(\\d+)')\n",
        "df[target_col] = pd.to_numeric(df[target_col][0], errors='coerce')\n",
        "\n",
        "# Убираем пропуски\n",
        "df = df.dropna(subset=[target_col])\n",
        "\n",
        "# Проверяем диапазон значений\n",
        "print(df[target_col].describe())"
      ],
      "metadata": {
        "colab": {
          "base_uri": "https://localhost:8080/"
        },
        "id": "6fD8sWaliUlV",
        "outputId": "8e6873f0-346b-4838-adb3-6f01cf86b9f2"
      },
      "execution_count": 72,
      "outputs": [
        {
          "output_type": "stream",
          "name": "stdout",
          "text": [
            "count    481.0\n",
            "mean       2.0\n",
            "std        0.0\n",
            "min        2.0\n",
            "25%        2.0\n",
            "50%        2.0\n",
            "75%        2.0\n",
            "max        2.0\n",
            "Name: 8. What is the average time you spend on social media every day?, dtype: float64\n"
          ]
        }
      ]
    },
    {
      "cell_type": "code",
      "source": [
        "from sklearn.linear_model import LinearRegression\n",
        "\n",
        "# Загружаем датасет\n",
        "df = pd.read_csv('smmhdataset.csv')\n",
        "\n",
        "# Колонки\n",
        "age_col = '1. What is your age?'\n",
        "time_col = '8. What is the average time you spend on social media every day?'\n",
        "\n",
        "# --- Подготовка целевого признака (время) ---\n",
        "time_data = df[time_col].astype(str).str.extract(r'(\\d+)')\n",
        "time_data = pd.to_numeric(time_data[0], errors='coerce')\n",
        "\n",
        "# --- Подготовка признака возраста ---\n",
        "age_data = pd.to_numeric(df[age_col], errors='coerce')\n",
        "\n",
        "# --- Объединяем и убираем пропуски ---\n",
        "clean_df = pd.DataFrame({\n",
        "    'Age': age_data,\n",
        "    'Time': time_data\n",
        "}).dropna()\n",
        "\n",
        "# --- Линейная регрессия ---\n",
        "X = clean_df[['Age']]  # Независимая переменная\n",
        "y = clean_df['Time']   # Целевой признак\n",
        "\n",
        "model = LinearRegression()\n",
        "model.fit(X, y)\n",
        "\n",
        "# Предсказания\n",
        "y_pred = model.predict(X)\n",
        "\n",
        "# --- Визуализация ---\n",
        "plt.figure(figsize=(8, 6))\n",
        "plt.scatter(X, y, alpha=0.5, label='\"Данные')\n",
        "plt.plot(X, y_pred, color='red', linewidth=2, label='Линия регрессии')\n",
        "plt.xlabel('Возраст')\n",
        "plt.ylabel('Часы в соцсетях')\n",
        "plt.title('Линейная регрессия: возраст vs время в соцсетях')\n",
        "plt.legend()\n",
        "plt.show()"
      ],
      "metadata": {
        "colab": {
          "base_uri": "https://localhost:8080/",
          "height": 564
        },
        "id": "2XcQB5k1qSLi",
        "outputId": "624630e6-22c7-46f3-9950-2d3f55cca102"
      },
      "execution_count": 78,
      "outputs": [
        {
          "output_type": "display_data",
          "data": {
            "text/plain": [
              "<Figure size 800x600 with 1 Axes>"
            ],
            "image/png": "[encoded data removed]"
          },
          "metadata": {}
        }
      ]
    }
  ]
}